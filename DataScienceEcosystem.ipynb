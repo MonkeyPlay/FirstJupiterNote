{
 "cells": [
  {
   "cell_type": "markdown",
   "id": "71777417-c303-4afc-96a7-d03d6f821a34",
   "metadata": {},
   "source": [
    "# Data Science Tools and Ecosystem"
   ]
  },
  {
   "cell_type": "markdown",
   "id": "7eba5693-2ad3-4547-95e4-0e6168babb57",
   "metadata": {},
   "source": [
    "In this notebook, Data Science Tools and Ecosystem are summarized."
   ]
  },
  {
   "cell_type": "markdown",
   "id": "a87b63fc-0c61-48d3-bb43-051b5ab52e12",
   "metadata": {},
   "source": [
    "**Objectives:**\n",
    "\n",
    "- List popular languages for Data Science\n",
    "- Describe commonly used libraries in Data Science\n",
    "- Demonstrate simple arithmetic operations in Python\n",
    "- Convert minutes to hours using Python code\n",
    "- Create tables in markdown to organize information\n"
   ]
  },
  {
   "cell_type": "markdown",
   "id": "3436032b-99be-4cc8-b2c3-0639518dca97",
   "metadata": {},
   "source": [
    "Some of the popular languages that Data Scientists use are:\n",
    "\n",
    "    1. Python\n",
    "    2. R\n",
    "    3. Julia\n",
    "    4. Scala\n",
    "    5. SQL"
   ]
  },
  {
   "cell_type": "markdown",
   "id": "5b43f321-5645-4e25-ad3f-3b2addab1e9a",
   "metadata": {},
   "source": [
    "Some of the commonly used libraries used by Data Scientists include:\n",
    "\n",
    "    1. NumPy\n",
    "    2. Pandas\n",
    "    3. TensorFlow"
   ]
  },
  {
   "cell_type": "markdown",
   "id": "7f1eb1d9-3a5f-4738-b4b6-37b092b1c76d",
   "metadata": {},
   "source": [
    "| Data Science Tools           |\n",
    "|------------------------------|\n",
    "| JupyterLab                   |\n",
    "| RStudio                      |\n",
    "| Apache Hadoop               |\n",
    "| PyTorch               |"
   ]
  },
  {
   "cell_type": "markdown",
   "id": "83cdc763-e97f-48eb-981b-2c30d17e3cd3",
   "metadata": {},
   "source": [
    "### Below are a few examples of evaluating arithmetic expressions in Python"
   ]
  },
  {
   "cell_type": "code",
   "execution_count": 2,
   "id": "f80da3ed-dbfc-4aad-aac1-0f00514cd866",
   "metadata": {
    "tags": []
   },
   "outputs": [
    {
     "data": {
      "text/plain": [
       "17"
      ]
     },
     "execution_count": 2,
     "metadata": {},
     "output_type": "execute_result"
    }
   ],
   "source": [
    "# This a simple arithmetic expression to mutiply then add integers\n",
    "\n",
    "(3*4)+5"
   ]
  },
  {
   "cell_type": "code",
   "execution_count": 3,
   "id": "64cd694e-81ef-4408-aaaf-3006b8d6ca69",
   "metadata": {
    "tags": []
   },
   "outputs": [
    {
     "data": {
      "text/plain": [
       "3.3333333333333335"
      ]
     },
     "execution_count": 3,
     "metadata": {},
     "output_type": "execute_result"
    }
   ],
   "source": [
    "# This will convert 200 minutes to hours by diving by 60\n",
    "\n",
    "200 / 60"
   ]
  },
  {
   "cell_type": "markdown",
   "id": "a97dd901-3eb0-4961-9917-5ea137f571f7",
   "metadata": {},
   "source": [
    "## Author\n",
    "\n",
    "Andreas Vrhovsek\n"
   ]
  }
 ],
 "metadata": {
  "kernelspec": {
   "display_name": "Python",
   "language": "python",
   "name": "conda-env-python-py"
  },
  "language_info": {
   "codemirror_mode": {
    "name": "ipython",
    "version": 3
   },
   "file_extension": ".py",
   "mimetype": "text/x-python",
   "name": "python",
   "nbconvert_exporter": "python",
   "pygments_lexer": "ipython3",
   "version": "3.7.12"
  }
 },
 "nbformat": 4,
 "nbformat_minor": 5
}
